{
  "cells": [
    {
      "cell_type": "code",
      "execution_count": 1,
      "metadata": {
        "id": "yNwhkbnTa6Z6"
      },
      "outputs": [],
      "source": [
        "# Artificial Neural Network - MNIST Classification\n",
        "# Practice Lab Notebook with comments & from-scratch implementations\n",
        "\n",
        "# ==============================\n",
        "# PHẦN 1: IMPORT THƯ VIỆN CẦN THIẾT\n",
        "# ==============================\n",
        "\n",
        "import numpy as np\n",
        "import matplotlib.pyplot as plt\n",
        "from tensorflow.keras.datasets import mnist\n",
        "from tensorflow.keras.utils import to_categorical\n",
        "import pandas as pd"
      ]
    },
    {
      "cell_type": "markdown",
      "metadata": {
        "id": "Px8sSaf0rBEA"
      },
      "source": [
        "* tensorflow: Thư viện nền tảng.\n",
        "* keras: API cấp cao bên trong TensorFlow.\n",
        "* layers: Module chứa các loại lớp mạng (Dense, Conv2D, LSTM...).\n",
        "* numpy: Xử lý mảng dữ liệu hiệu quả.\n",
        "* matplotlib: Trực quan hóa dữ liệu (ví dụ: xem một vài ảnh MNIST).\n"
      ]
    },
    {
      "cell_type": "code",
      "execution_count": 2,
      "metadata": {
        "colab": {
          "base_uri": "https://localhost:8080/",
          "height": 442
        },
        "id": "_rFbg2QZa-uP",
        "outputId": "7e2fee64-674a-49b3-bee7-26da314490c9"
      },
      "outputs": [
        {
          "name": "stdout",
          "output_type": "stream",
          "text": [
            "(array([[[0, 0, 0, ..., 0, 0, 0],\n",
            "        [0, 0, 0, ..., 0, 0, 0],\n",
            "        [0, 0, 0, ..., 0, 0, 0],\n",
            "        ...,\n",
            "        [0, 0, 0, ..., 0, 0, 0],\n",
            "        [0, 0, 0, ..., 0, 0, 0],\n",
            "        [0, 0, 0, ..., 0, 0, 0]],\n",
            "\n",
            "       [[0, 0, 0, ..., 0, 0, 0],\n",
            "        [0, 0, 0, ..., 0, 0, 0],\n",
            "        [0, 0, 0, ..., 0, 0, 0],\n",
            "        ...,\n",
            "        [0, 0, 0, ..., 0, 0, 0],\n",
            "        [0, 0, 0, ..., 0, 0, 0],\n",
            "        [0, 0, 0, ..., 0, 0, 0]],\n",
            "\n",
            "       [[0, 0, 0, ..., 0, 0, 0],\n",
            "        [0, 0, 0, ..., 0, 0, 0],\n",
            "        [0, 0, 0, ..., 0, 0, 0],\n",
            "        ...,\n",
            "        [0, 0, 0, ..., 0, 0, 0],\n",
            "        [0, 0, 0, ..., 0, 0, 0],\n",
            "        [0, 0, 0, ..., 0, 0, 0]],\n",
            "\n",
            "       ...,\n",
            "\n",
            "       [[0, 0, 0, ..., 0, 0, 0],\n",
            "        [0, 0, 0, ..., 0, 0, 0],\n",
            "        [0, 0, 0, ..., 0, 0, 0],\n",
            "        ...,\n",
            "        [0, 0, 0, ..., 0, 0, 0],\n",
            "        [0, 0, 0, ..., 0, 0, 0],\n",
            "        [0, 0, 0, ..., 0, 0, 0]],\n",
            "\n",
            "       [[0, 0, 0, ..., 0, 0, 0],\n",
            "        [0, 0, 0, ..., 0, 0, 0],\n",
            "        [0, 0, 0, ..., 0, 0, 0],\n",
            "        ...,\n",
            "        [0, 0, 0, ..., 0, 0, 0],\n",
            "        [0, 0, 0, ..., 0, 0, 0],\n",
            "        [0, 0, 0, ..., 0, 0, 0]],\n",
            "\n",
            "       [[0, 0, 0, ..., 0, 0, 0],\n",
            "        [0, 0, 0, ..., 0, 0, 0],\n",
            "        [0, 0, 0, ..., 0, 0, 0],\n",
            "        ...,\n",
            "        [0, 0, 0, ..., 0, 0, 0],\n",
            "        [0, 0, 0, ..., 0, 0, 0],\n",
            "        [0, 0, 0, ..., 0, 0, 0]]], dtype=uint8), array([5, 0, 4, ..., 5, 6, 8], dtype=uint8))\n",
            "Kích thước dữ liệu huấn luyện (ảnh): (60000, 28, 28)\n",
            "Kích thước dữ liệu huấn luyện (nhãn): (60000,)\n",
            "Kích thước dữ liệu kiểm tra (ảnh): (10000, 28, 28)\n",
            "Kích thước dữ liệu kiểm tra (nhãn): (10000,)\n"
          ]
        },
        {
          "data": {
            "image/png": "[encoded data removed]",
            "text/plain": [
              "<Figure size 640x480 with 6 Axes>"
            ]
          },
          "metadata": {},
          "output_type": "display_data"
        }
      ],
      "source": [
        "# ==============================\n",
        "# PHẦN 2: LOAD VÀ TIỀN XỬ LÝ DỮ LIỆU\n",
        "# ==============================\n",
        "## Tải bộ dữ liệu MNIST (đã được chia sẵn thành tập huấn luyện và tập kiểm tra)\n",
        "data =  mnist.load_data()\n",
        "\n",
        "(x_train, y_train), (x_test, y_test) = data\n",
        "print(data[0])\n",
        "# Xem kích thước dữ liệu\n",
        "print(\"Kích thước dữ liệu huấn luyện (ảnh):\", x_train.shape) # Output: (60000, 28, 28) -> 60k ảnh, mỗi ảnh 28x28 pixel\n",
        "print(\"Kích thước dữ liệu huấn luyện (nhãn):\", y_train.shape) # Output: (60000,) -> 60k nhãn (số từ 0-9)\n",
        "print(\"Kích thước dữ liệu kiểm tra (ảnh):\", x_test.shape)   # Output: (10000, 28, 28)\n",
        "print(\"Kích thước dữ liệu kiểm tra (nhãn):\", y_test.shape)   # Output: (10000,)\n",
        "# Hiển thị vài ảnh mẫu\n",
        "for i in range(6):\n",
        "    plt.subplot(2, 3, i+1)\n",
        "    plt.imshow(x_train[i], cmap='gray')\n",
        "    plt.title(f\"Label: {y_train[i]}\")\n",
        "    plt.axis('off')\n",
        "plt.show()\n"
      ]
    },
    {
      "cell_type": "code",
      "execution_count": 3,
      "metadata": {
        "id": "oPLxIAZIbBKw"
      },
      "outputs": [
        {
          "name": "stdout",
          "output_type": "stream",
          "text": [
            "Nhãn gốc của mẫu đầu tiên: [0. 0. 0. 0. 0. 1. 0. 0. 0. 0.]\n"
          ]
        }
      ],
      "source": [
        "# 1. Chuẩn hóa giá trị pixel về khoảng [0, 1]\n",
        "# Giá trị pixel gốc từ 0 đến 255. Chuẩn hóa giúp mô hình hội tụ nhanh và ổn định hơn.\n",
        "\n",
        "x_train = x_train / 255.0\n",
        "x_test = x_test / 255.0\n",
        "\n",
        "\n",
        "# 3. Chuyển đổi nhãn thành dạng One-Hot Encoding\n",
        "# Ví dụ: nhãn số 5 -> [0, 0, 0, 0, 0, 1, 0, 0, 0, 0] (vector 10 chiều)\n",
        "# Cần thiết khi sử dụng hàm mất mát 'categorical_crossentropy'\n",
        "# VD: y_train_one_hot = keras.utils.to_categorical(y_train, num_classes)\n",
        "\n",
        "y_train = to_categorical(y_train, 10)\n",
        "y_test = to_categorical(y_test, 10)\n",
        "\n",
        "print(\"Nhãn gốc của mẫu đầu tiên:\", y_train[0])\n",
        "# Output: (60000, 10)\n",
        "\n",
        "\n",
        "# Reshape lại input cho phù hợp\n",
        "x_train = x_train.reshape(-1, 28*28)\n",
        "x_test = x_test.reshape(-1, 28*28)"
      ]
    },
    {
      "cell_type": "code",
      "execution_count": 4,
      "metadata": {
        "id": "0EVeUNTmbD4b"
      },
      "outputs": [],
      "source": [
        "\n",
        "# ==============================\n",
        "# PHẦN 3: VIẾT HÀM MÔ PHỎNG MẠNG NEURAL TỪ ĐẦU\n",
        "# ==============================\n",
        "# Hàm kích hoạt sigmoid và đạo hàm của nó\n",
        "def sigmoid(x):\n",
        "    return 1 / (1 + np.exp(-x))\n",
        "\n",
        "def sigmoid_derivative(x):\n",
        "    return sigmoid(x) * (1 - sigmoid(x))\n",
        "\n",
        "# Softmax activation cho output layer\n",
        "def softmax(x):\n",
        "    exp_x = np.exp(x - np.max(x, axis=1, keepdims=True))\n",
        "    return exp_x / np.sum(exp_x, axis=1, keepdims=True)\n",
        "\n",
        "# Hàm mất mát categorical crossentropy\n",
        "def cross_entropy(y_true, y_pred):\n",
        "    return -np.mean(np.sum(y_true * np.log(y_pred + 1e-9), axis=1))"
      ]
    },
    {
      "cell_type": "code",
      "execution_count": 5,
      "metadata": {
        "id": "xNch40OGbHhP"
      },
      "outputs": [],
      "source": [
        "# ==============================\n",
        "# PHẦN 4: KHOI TẠO MÔ HÌNH MẠNG NEURAL ĐƠN GIẢN\n",
        "# ==============================\n",
        "# 1 hidden layer: input (784) -> hidden (64) -> output (10)\n",
        "input_size = 784\n",
        "hidden_size = 64\n",
        "output_size = 10\n",
        "\n",
        "# Khởi tạo trọng số và bias\n",
        "np.random.seed(42)\n",
        "W1 = np.random.randn(input_size, hidden_size) * 0.01\n",
        "b1 = np.zeros((1, hidden_size))\n",
        "W2 = np.random.randn(hidden_size, output_size) * 0.01\n",
        "b2 = np.zeros((1, output_size))\n"
      ]
    },
    {
      "cell_type": "code",
      "execution_count": 6,
      "metadata": {
        "colab": {
          "base_uri": "https://localhost:8080/"
        },
        "id": "CVuvTq-JbKDK",
        "outputId": "821ee891-6e4a-4aed-d5d1-45d2ee1bb55d"
      },
      "outputs": [],
      "source": [
        "\n",
        "# ==============================\n",
        "# PHẦN 5: TRAINING - FORWARD VÀ BACKPROPAGATION\n",
        "# ==============================\n",
        "learning_rate = 0.1\n",
        "epochs = 10\n",
        "batch_size = 128\n",
        "\n",
        "for epoch in range(epochs):\n",
        "    permutation = np.random.permutation(x_train.shape[0])\n",
        "    x_train_shuffled = x_train[permutation]\n",
        "    y_train_shuffled = y_train[permutation]\n",
        "\n",
        "    for i in range(0, x_train.shape[0], batch_size):\n",
        "        x_batch = x_train_shuffled[i:i+batch_size]\n",
        "        y_batch = y_train_shuffled[i:i+batch_size]\n",
        "\n",
        "        # Forward\n",
        "        z1 = np.dot(x_batch, W1) + b1\n",
        "        a1 = sigmoid(z1)\n",
        "        z2 = np.dot(a1, W2) + b2\n",
        "        a2 = softmax(z2)\n",
        "\n",
        "        # Loss\n",
        "        loss = cross_entropy(y_batch, a2)\n",
        "\n",
        "        # Backward\n",
        "        dz2 = a2 - y_batch\n",
        "        dW2 = np.dot(a1.T, dz2)\n",
        "        db2 = np.sum(dz2, axis=0, keepdims=True)\n",
        "\n",
        "        dz1 = np.dot(dz2, W2.T) * sigmoid_derivative(z1)\n",
        "        dW1 = np.dot(x_batch.T, dz1)\n",
        "        db1 = np.sum(dz1, axis=0, keepdims=True)\n",
        "\n",
        "        # Update weights\n",
        "        W2 -= learning_rate * dW2 / batch_size\n",
        "        b2 -= learning_rate * db2 / batch_size\n",
        "        W1 -= learning_rate * dW1 / batch_size\n",
        "        b1 -= learning_rate * db1 / batch_size\n",
        "\n",
        "        \n"
      ]
    },
    {
      "cell_type": "code",
      "execution_count": 7,
      "metadata": {
        "colab": {
          "base_uri": "https://localhost:8080/"
        },
        "id": "EoALC1dLbL0P",
        "outputId": "f8040f9b-48b6-41f9-8952-5a439a1e0c3b"
      },
      "outputs": [
        {
          "name": "stdout",
          "output_type": "stream",
          "text": [
            "Test accuracy: 0.9294\n"
          ]
        }
      ],
      "source": [
        "# ==============================\n",
        "# PHẦN 6: ĐÁNH GIÁ MÔ HÌNH\n",
        "# ==============================\n",
        "def predict(x):\n",
        "    a1 = sigmoid(np.dot(x, W1) + b1)\n",
        "    a2 = softmax(np.dot(a1, W2) + b2)\n",
        "    return np.argmax(a2, axis=1)\n",
        "\n",
        "predictions = predict(x_test)\n",
        "y_true = np.argmax(y_test, axis=1)\n",
        "accuracy = np.mean(predictions == y_true)\n",
        "print(\"Test accuracy:\", accuracy)\n"
      ]
    },
    {
      "cell_type": "code",
      "execution_count": 8,
      "metadata": {
        "colab": {
          "base_uri": "https://localhost:8080/",
          "height": 1000
        },
        "id": "nBPofNRfa0p9",
        "outputId": "ee0c9a5d-50a8-4fc2-f7f4-c1121f02e677"
      },
      "outputs": [
        {
          "data": {
            "image/png": "[encoded data removed]",
            "text/plain": [
              "<Figure size 640x480 with 1 Axes>"
            ]
          },
          "metadata": {},
          "output_type": "display_data"
        },
        {
          "data": {
            "image/png": "[encoded data removed]",
            "text/plain": [
              "<Figure size 640x480 with 1 Axes>"
            ]
          },
          "metadata": {},
          "output_type": "display_data"
        },
        {
          "data": {
            "image/png": "[encoded data removed]",
            "text/plain": [
              "<Figure size 640x480 with 1 Axes>"
            ]
          },
          "metadata": {},
          "output_type": "display_data"
        },
        {
          "data": {
            "image/png": "[encoded data removed]",
            "text/plain": [
              "<Figure size 640x480 with 1 Axes>"
            ]
          },
          "metadata": {},
          "output_type": "display_data"
        },
        {
          "data": {
            "image/png": "[encoded data removed]",
            "text/plain": [
              "<Figure size 640x480 with 1 Axes>"
            ]
          },
          "metadata": {},
          "output_type": "display_data"
        }
      ],
      "source": [
        "# ==============================\n",
        "# PHẦN 7: HIỂN THỊ VÍ DỤ DỰ ĐOÁN\n",
        "# ==============================\n",
        "for i in range(5):\n",
        "    plt.imshow(x_test[i].reshape(28, 28), cmap='gray')\n",
        "    plt.title(f\"Dự đoán: {predictions[i]} | Thật: {y_true[i]}\")\n",
        "    plt.axis('off')\n",
        "    plt.show()\n"
      ]
    }
  ],
  "metadata": {
    "colab": {
      "provenance": []
    },
    "kernelspec": {
      "display_name": "machine_learning",
      "language": "python",
      "name": "python3"
    },
    "language_info": {
      "codemirror_mode": {
        "name": "ipython",
        "version": 3
      },
      "file_extension": ".py",
      "mimetype": "text/x-python",
      "name": "python",
      "nbconvert_exporter": "python",
      "pygments_lexer": "ipython3",
      "version": "3.12.4"
    }
  },
  "nbformat": 4,
  "nbformat_minor": 0
}
